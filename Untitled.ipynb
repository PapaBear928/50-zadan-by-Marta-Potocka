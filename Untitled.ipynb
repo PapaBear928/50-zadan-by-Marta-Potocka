{
 "cells": [
  {
   "cell_type": "markdown",
   "metadata": {},
   "source": [
    "50 zadań egzaminacyjnych z Pythona\n",
    "\n",
    "\n",
    "1.  Lista niepowtarzalnych elementów.\n",
    "\n",
    "Korzystając z podanej listy A stwórz listę B zawierającą tylko unikalne elementy z listy A\n"
   ]
  },
  {
   "cell_type": "code",
   "execution_count": null,
   "metadata": {},
   "outputs": [],
   "source": [
    "A = [ 1,2,3,3,2,1,1,2,3]"
   ]
  },
  {
   "cell_type": "code",
   "execution_count": null,
   "metadata": {},
   "outputs": [],
   "source": [
    "B = []\n",
    "for i in A:\n",
    "    if i not in B:\n",
    "        B.append(i)\n",
    "        \n",
    "print(B)"
   ]
  },
  {
   "cell_type": "code",
   "execution_count": null,
   "metadata": {},
   "outputs": [],
   "source": [
    "A = [ 1,2,3,3,2,1,1,2,3]"
   ]
  },
  {
   "cell_type": "code",
   "execution_count": null,
   "metadata": {},
   "outputs": [],
   "source": [
    "A = [ 1,2,3,3,2,1,1,2,3]\n",
    "B = list(set(A))\n",
    "print(B)\n"
   ]
  },
  {
   "cell_type": "code",
   "execution_count": null,
   "metadata": {},
   "outputs": [],
   "source": []
  },
  {
   "cell_type": "markdown",
   "metadata": {},
   "source": [
    "2. Co się stanie po wykonaniu poniższego kodu?"
   ]
  },
  {
   "cell_type": "code",
   "execution_count": null,
   "metadata": {},
   "outputs": [],
   "source": [
    "a = \"abcdefg\"\n",
    "print(a[1])\n",
    "#a[1] = 'X'\n",
    "\n",
    "a_lista = list(a) # worzymy nową listę, która będzie zawierała dane ze stringa A\n",
    "a_lista[1]= 'X'\n",
    "a = \"-\".join(a_lista) # metoda .join na pustym stringu powoduje, że elementy podanego ciągu,\n",
    "# stają się częścią tej listy\n",
    "print(a)\n"
   ]
  },
  {
   "cell_type": "markdown",
   "metadata": {},
   "source": [
    "3. Różnica między listą a tuplą\n",
    "\n",
    "Napisz kod, który zaprezentuje najważniejsze różnice między list a tuple."
   ]
  },
  {
   "cell_type": "code",
   "execution_count": null,
   "metadata": {},
   "outputs": [],
   "source": [
    "L = [1,2,3,4,True,(1,2)] # Lista jak to w Pythonie może przechowywać różne wartości, liczby, wartości logiczne, albo Tuple właśnie\n",
    "T = ( 3,4,5,False, ['x','y']) # Tuple tak samo jak listy mogą również przechowywać różne typy wartości tak jak listy."
   ]
  },
  {
   "cell_type": "markdown",
   "metadata": {},
   "source": [
    "Różnica pierwsza ==> Listy zapisujemy w nawiasach kwadratowych, zaś krotki(tuple) w okrągłych\n",
    "Różnica druga ==> Listy są mutowalne, zaś krotki nie."
   ]
  },
  {
   "cell_type": "code",
   "execution_count": null,
   "metadata": {},
   "outputs": [],
   "source": [
    " L[2] = 'trzy' # w tej linijce chcę zamienić element listy pod numerem drugi, uda się\n",
    "print(L)"
   ]
  },
  {
   "cell_type": "code",
   "execution_count": null,
   "metadata": {},
   "outputs": [],
   "source": [
    "T[2] = 'sześć' # type error, że Tupla nie wspiera przypisywania elementów."
   ]
  },
  {
   "cell_type": "markdown",
   "metadata": {},
   "source": [
    "\n",
    "Pytanie 6.\n",
    "\n",
    "\n",
    "Jakiej struktury danych użyłbyś do zapisania numerów telefonów wszystkich klientów firmy i odpowiadających im nazwisk. Wybierz strukturę tak, aby sprawdzenie właściciela numeru telefonu nie zajmowało dużo czasu.\n",
    "Następnie stwórz przykładową strukturę przechowywującą poniższe informacje:\n",
    "\n",
    "123456789 Jan Kot\n",
    "999888777 Anna Lis\n",
    "777744445 Zbyszek Bobkowski\n",
    "123455543 Jan Kot\n",
    "\n",
    "Musimy więc stworzyć strukturę, która powiąże unikalne dane, z ich nie unikalnymi odpowiednikami.\n",
    "Dobrze myślałem, słownik!"
   ]
  },
  {
   "cell_type": "code",
   "execution_count": null,
   "metadata": {},
   "outputs": [],
   "source": [
    "D = {123456789:'Jan Kot', 999888777:'Anna Lis', 777744445:'Zbyszek Bobkowski', 123455543:'Jan Kot'}"
   ]
  },
  {
   "cell_type": "code",
   "execution_count": null,
   "metadata": {},
   "outputs": [],
   "source": [
    "print(D)"
   ]
  },
  {
   "cell_type": "code",
   "execution_count": null,
   "metadata": {},
   "outputs": [],
   "source": [
    "print (D[123456789])"
   ]
  },
  {
   "cell_type": "markdown",
   "metadata": {},
   "source": [
    "Pytanie 7.\n",
    "Które z poniższych słowników  zostały utworzone niepoprawnie:\n",
    "\n",
    "Kluczem słownika może być liczba, tupla lub string. Słownik nie może być tak samo jak lista. Kluczem jest zrozumienie tablic haszujących."
   ]
  },
  {
   "cell_type": "code",
   "execution_count": null,
   "metadata": {},
   "outputs": [],
   "source": [
    "A = {1:1, 2:2}\n",
    "B = {'imie': 'Anna', 'nazwisko': 'Kowalska'}\n",
    "#C = {[4,5]: [16,25]}\n",
    "D = {(4,5):[16,25]}\n",
    "#E = {{1:2}:'jeden_dwa'}"
   ]
  },
  {
   "cell_type": "markdown",
   "metadata": {},
   "source": [
    "Pytanie 8. \n",
    "Co zostanie wypisane w wyniku wykonania poniższego kodu?\n"
   ]
  },
  {
   "cell_type": "code",
   "execution_count": null,
   "metadata": {},
   "outputs": [],
   "source": [
    "D={1:'Ala',2:'ma',3:'kota.'} # słownik, wartości liczbowe a kluczami są ciągi"
   ]
  },
  {
   "cell_type": "code",
   "execution_count": null,
   "metadata": {},
   "outputs": [],
   "source": [
    "for key in D:\n",
    "    print(D[key])"
   ]
  },
  {
   "cell_type": "markdown",
   "metadata": {},
   "source": [
    "\n",
    "Pytanie 9. \n",
    "Dla podanego ciągu stwórz słownik przechowujący informację ile razy dana litera wystąpiła w stringu.\n"
   ]
  },
  {
   "cell_type": "code",
   "execution_count": null,
   "metadata": {},
   "outputs": [],
   "source": [
    "x = \"myszydokazujągdykotanieczują\"\n",
    "\n",
    "D = {}\n",
    "\n",
    "for litera in x:\n",
    "    if litera not in D.keys(): #keys jest konieczne, jeżeli je usuniemy, to Python będzie sprawdzał czy litera jest jednym z kluczy\n",
    "        D[litera] = 1\n",
    "    else:\n",
    "        D[litera] += 1 #  D[litera] = D[litera] + 1"
   ]
  },
  {
   "cell_type": "code",
   "execution_count": null,
   "metadata": {},
   "outputs": [],
   "source": [
    "print(D)"
   ]
  },
  {
   "cell_type": "markdown",
   "metadata": {},
   "source": [
    "Pytanie 10. Wartości słownika\n",
    "Korzystając ze słownika stworzonego w poprzednim zadaniu sprawdź czy któraś z liter wystąpiła w stringu dokładnie 4 razy. Jeśli tak – wypisz True, jeśli nie - False.\n",
    "\n",
    "Cała zabawa rozchodzi się o użycie metody values()"
   ]
  },
  {
   "cell_type": "code",
   "execution_count": null,
   "metadata": {},
   "outputs": [],
   "source": [
    "litery = {'m': 1, 'y': 3, 's': 1, 'z': 3, 'd': 2, 'o': 2, 'k': 2, 'a': 2, 'u': 2, 'j': 2, 'ą': 2, 'g': 1, 't': 1, 'n': 1, 'i': 1, 'e': 1, 'c': 1}"
   ]
  },
  {
   "cell_type": "code",
   "execution_count": null,
   "metadata": {},
   "outputs": [],
   "source": [
    "print(list(litery.values())) # dlaczego znalazło się tu list? A zobaczmy"
   ]
  },
  {
   "cell_type": "code",
   "execution_count": null,
   "metadata": {},
   "outputs": [],
   "source": [
    "print(litery.values()) # dlaczego znalazło się tu list? A zobaczmy"
   ]
  },
  {
   "cell_type": "markdown",
   "metadata": {},
   "source": [
    "Widać to bezsprzecznie,ale co jeżeli słownik miałby 1000 elementów albo więcej? TO już takie łatwe by nie było\n",
    "Ale i na to jest rozwiązanie"
   ]
  },
  {
   "cell_type": "code",
   "execution_count": null,
   "metadata": {},
   "outputs": [],
   "source": [
    "if 4 in litery.values():\n",
    "    print(True)\n",
    "else:\n",
    "    print(False)"
   ]
  },
  {
   "cell_type": "code",
   "execution_count": null,
   "metadata": {},
   "outputs": [],
   "source": [
    "print(True if 4 in litery.values()else False)"
   ]
  },
  {
   "cell_type": "code",
   "execution_count": null,
   "metadata": {},
   "outputs": [],
   "source": [
    "pensje = {'ksiegowa': 5000, 'kierowca': 4500, 'recepcjonistka': 4000}\n",
    "\n",
    "# twój kod tutaj\n",
    "print(list(pensje.values()))\n",
    "pensje.values(sum)"
   ]
  },
  {
   "cell_type": "markdown",
   "metadata": {},
   "source": [
    "Pytanie 11. Odwracanie listy\n",
    "\n",
    "Na podstawie listy języki stwórz listę języki odwrócone zawierającą elementy listy w odwróconej kolejności.\n",
    "Są na to co najmniej 4 sposoby:\n"
   ]
  },
  {
   "cell_type": "code",
   "execution_count": null,
   "metadata": {},
   "outputs": [],
   "source": [
    "jezyki = ['Python', 'Java', 'C#', 'Ruby']"
   ]
  },
  {
   "cell_type": "code",
   "execution_count": null,
   "metadata": {},
   "outputs": [],
   "source": [
    "jezyki_odwrócone = jezyki[::-1]\n",
    "print(jezyki_odwrócone)\n",
    "    "
   ]
  },
  {
   "cell_type": "code",
   "execution_count": null,
   "metadata": {},
   "outputs": [],
   "source": [
    "jezyki.reverse() # ==> reverse() modyfikuje obecną listę i nie tworzy nowej\n",
    "jezyki_odwrocone = jezyki\n",
    "print(jezyki_odwrocone)"
   ]
  },
  {
   "cell_type": "code",
   "execution_count": null,
   "metadata": {},
   "outputs": [],
   "source": [
    "jezyki_odwrocone = list(reversed(jezyki)) # modyfikuje obecną listę i tworzy nową.\n",
    "print(jezyki_odwrocone)"
   ]
  },
  {
   "cell_type": "code",
   "execution_count": null,
   "metadata": {},
   "outputs": [],
   "source": [
    "jezyki_odwrocone = []\n",
    "for jezyk in jezyki:\n",
    "    jezyki_odwrocone.insert(0,jezyk) # Jak działa metoda insert? Na podany indeks danej liczny wsadza podaną wartość, tak więc, każdy przeczytany będzie umieszczany na liście,\n",
    "        #każdy przeczytany język będzie umieszczony na początku listy ==> tak odwróci się w ten sposób\n",
    "print(jezyki_odwrocone)"
   ]
  },
  {
   "cell_type": "code",
   "execution_count": null,
   "metadata": {},
   "outputs": [],
   "source": []
  },
  {
   "cell_type": "markdown",
   "metadata": {},
   "source": [
    "Pytanie 12. Palindrom.\n",
    "\n",
    "Napisz funkcję sprawdzającą czy podane słowo jest palindromem.\n"
   ]
  },
  {
   "cell_type": "code",
   "execution_count": null,
   "metadata": {},
   "outputs": [],
   "source": [
    "def palindrom(slowo):\n",
    "    slowo_odwrocone = slowo[::-1]\n",
    "    if slowo == slowo_odwrocone:\n",
    "        return True\n",
    "    else:\n",
    "        return False"
   ]
  },
  {
   "cell_type": "code",
   "execution_count": null,
   "metadata": {},
   "outputs": [],
   "source": [
    "print(palindrom(\"bob\"))"
   ]
  },
  {
   "cell_type": "code",
   "execution_count": null,
   "metadata": {},
   "outputs": [],
   "source": [
    "def palindrom(slowo):\n",
    "    return True if slowo == slowo[::-1] else False"
   ]
  },
  {
   "cell_type": "code",
   "execution_count": null,
   "metadata": {},
   "outputs": [],
   "source": [
    "def palindrom(slowo):\n",
    "    poczatek = 0\n",
    "    koniec = len(slowo) -1\n",
    "    \n",
    "    while poczatek <= koniec:\n",
    "        if slowo[poczatek] != slowo[koniec]:\n",
    "            return False\n",
    "        else:\n",
    "            początek += 1\n",
    "            koniec -= 1\n",
    "    return True"
   ]
  },
  {
   "cell_type": "code",
   "execution_count": null,
   "metadata": {},
   "outputs": [],
   "source": [
    "print(palindrom(\"Zdobek\"))"
   ]
  },
  {
   "cell_type": "markdown",
   "metadata": {},
   "source": [
    "Pytanie 13. Range\n",
    "Stwórz dwie listy. A zawierającą liczby od 1 do 10 i B zawierającą liczbę od 100 do  1. W obu przypadkach możesz napisać tylko jedną linijkę kodu\n"
   ]
  },
  {
   "cell_type": "code",
   "execution_count": null,
   "metadata": {},
   "outputs": [],
   "source": [
    "print(list(range(11)))"
   ]
  },
  {
   "cell_type": "code",
   "execution_count": null,
   "metadata": {},
   "outputs": [],
   "source": [
    "A = list(range(1,11))"
   ]
  },
  {
   "cell_type": "code",
   "execution_count": null,
   "metadata": {},
   "outputs": [],
   "source": [
    "print(A)"
   ]
  },
  {
   "cell_type": "code",
   "execution_count": null,
   "metadata": {},
   "outputs": [],
   "source": [
    "B = list(range(1,101,3))[::-1]"
   ]
  },
  {
   "cell_type": "code",
   "execution_count": null,
   "metadata": {},
   "outputs": [],
   "source": [
    "C"
   ]
  },
  {
   "cell_type": "code",
   "execution_count": null,
   "metadata": {},
   "outputs": [],
   "source": [
    "C = list(range(100,0,-3))"
   ]
  },
  {
   "cell_type": "code",
   "execution_count": null,
   "metadata": {},
   "outputs": [],
   "source": [
    "print(C)"
   ]
  },
  {
   "cell_type": "markdown",
   "metadata": {},
   "source": [
    "\n",
    "14. Slicy.\n",
    "\n",
    "\n",
    "Wypisz pierwsze 5 elementów z listy L\n",
    " Wypisz co drugą literę stringa S zaczynając od ostatniej o cofając się do początku\n"
   ]
  },
  {
   "cell_type": "code",
   "execution_count": null,
   "metadata": {},
   "outputs": [],
   "source": [
    "L = [11,22,33,44,55,66,77,88,99,1010]\n",
    "s = 'Roztropniez to waszmosc wykoncypowal'\n",
    "\n"
   ]
  },
  {
   "cell_type": "code",
   "execution_count": null,
   "metadata": {},
   "outputs": [],
   "source": [
    "\n"
   ]
  },
  {
   "cell_type": "code",
   "execution_count": null,
   "metadata": {},
   "outputs": [],
   "source": [
    "s[-1::-2]"
   ]
  },
  {
   "cell_type": "markdown",
   "metadata": {},
   "source": [
    "14. Slicy praktycznie. Sprawdzanie nazwy pliku.\n",
    "\n",
    "\n",
    "Napisz funkcje która sprawdzi czy podany string zaczyna się łowem python i kończy rozszerzeniem”.py”\n"
   ]
  },
  {
   "cell_type": "code",
   "execution_count": null,
   "metadata": {},
   "outputs": [],
   "source": [
    "a = \"python_moj_kod.py\"\n",
    "b = \"python_notatki.docx\""
   ]
  },
  {
   "cell_type": "code",
   "execution_count": null,
   "metadata": {},
   "outputs": [],
   "source": []
  },
  {
   "cell_type": "code",
   "execution_count": null,
   "metadata": {},
   "outputs": [],
   "source": [
    "x(b)"
   ]
  },
  {
   "cell_type": "code",
   "execution_count": null,
   "metadata": {},
   "outputs": [],
   "source": [
    "def x(nazwa_pliku):\n",
    "    if nazwa_pliku[0:6] == 'python' and nazwa_pliku[-3:] == '.py':\n",
    "        return True\n",
    "    else:\n",
    "        return False"
   ]
  },
  {
   "cell_type": "code",
   "execution_count": null,
   "metadata": {},
   "outputs": [],
   "source": [
    "x(b)"
   ]
  },
  {
   "cell_type": "code",
   "execution_count": null,
   "metadata": {},
   "outputs": [],
   "source": [
    "x(a)"
   ]
  },
  {
   "cell_type": "markdown",
   "metadata": {},
   "source": [
    "16. Enumerate.\n",
    "\n",
    "\n",
    "Wypisz podaną listę imion przed każdym dodając kolejny numer. Zacznij od 1.\n"
   ]
  },
  {
   "cell_type": "code",
   "execution_count": null,
   "metadata": {},
   "outputs": [],
   "source": [
    "imiona = ['Adam', 'Bob', 'Stanisław', 'Maria', 'Mikojaj']\n",
    "\n",
    "#1\n",
    "num = 1 # bo mamy zacząć od numeru jeden\n",
    "for imie in imiona:\n",
    "    print(num, imie)\n",
    "    num += 1\n",
    "    \n",
    "#2 Użyjemy wbudowanej w Pythona funkcji enumerate.\n",
    "\n",
    "for num, imie in enumerate(imiona,1):\n",
    "    print(num, imie)\n",
    "# enumerate to funkcja, która przypisuje kolejne numery poszczególnym elementom funkcji"
   ]
  },
  {
   "cell_type": "markdown",
   "metadata": {},
   "source": [
    "16. Min i Max.\n",
    "\n",
    "\n",
    "Znajdź różnicę między największą, a najmniejszą wartością na poniższej liście. Zadbaj o to aby rozwiązanie było efektywne.\n",
    "\n",
    "Zadanie to można rozwiązać na co najmniej 3 sposoby"
   ]
  },
  {
   "cell_type": "code",
   "execution_count": null,
   "metadata": {},
   "outputs": [],
   "source": [
    "#1\n",
    "A = [4,5,7,-3,2,8,- 10,15]\n",
    "\n",
    "print(max(A) - min(A))"
   ]
  },
  {
   "cell_type": "code",
   "execution_count": null,
   "metadata": {},
   "outputs": [],
   "source": [
    "#2\n",
    "A = [4,5,7,-3,2,8, -10,15]\n",
    "A = sorted(A)\n",
    "print(A[-1] - A[0])"
   ]
  },
  {
   "cell_type": "code",
   "execution_count": null,
   "metadata": {},
   "outputs": [],
   "source": [
    "#3\n",
    "A = [4,5,7,-3,2,8, -10,15]\n",
    "najmniejsza = A[0]\n",
    "najwieksza = A[0]\n",
    "\n",
    "for liczba in A:\n",
    "    if liczba < najmniejsza:\n",
    "        najmniejsza = liczba\n",
    "    elif liczba > najwieksza:\n",
    "        najwieksza = liczba\n",
    "print(najwieksza - najmniejsza)"
   ]
  },
  {
   "cell_type": "code",
   "execution_count": null,
   "metadata": {},
   "outputs": [],
   "source": [
    "A = [x**2 + 3 for x in range(10)]"
   ]
  },
  {
   "cell_type": "code",
   "execution_count": null,
   "metadata": {},
   "outputs": [],
   "source": [
    "print(A)"
   ]
  },
  {
   "cell_type": "markdown",
   "metadata": {},
   "source": [
    "Pytanie 18.\n",
    "\n",
    "Napisz funkcję, która będzie pobierała dwie liczby i będzie sprawdzać czy pierwsza z nich jest podzielna przez drugą"
   ]
  },
  {
   "cell_type": "code",
   "execution_count": null,
   "metadata": {},
   "outputs": [],
   "source": [
    "def dzielenie(a,b):\n",
    "    if a / b: \n",
    "        return True\n",
    "    else:\n",
    "        return False"
   ]
  },
  {
   "cell_type": "code",
   "execution_count": null,
   "metadata": {},
   "outputs": [],
   "source": [
    "dzielenie(10,2)"
   ]
  },
  {
   "cell_type": "code",
   "execution_count": null,
   "metadata": {},
   "outputs": [],
   "source": [
    "print(10%2)"
   ]
  },
  {
   "cell_type": "code",
   "execution_count": null,
   "metadata": {},
   "outputs": [],
   "source": [
    "def dzielenie(a,b):\n",
    "    return(a % b == 0)"
   ]
  },
  {
   "cell_type": "code",
   "execution_count": null,
   "metadata": {},
   "outputs": [],
   "source": [
    "dzielenie(-10,-2)"
   ]
  },
  {
   "cell_type": "markdown",
   "metadata": {},
   "source": [
    "Pytanie 19.\n",
    "\n",
    "Argumenty domyślne\n",
    "\n",
    "Wyjaśnij jak działa poniższa funkcja oraz skąd wzięły się wyniki zwrócone przez poszczególne wywołania funkcji.\n",
    "\n"
   ]
  },
  {
   "cell_type": "code",
   "execution_count": null,
   "metadata": {},
   "outputs": [],
   "source": [
    "def dodaj_do_listy(n, lista=[]):\n",
    "    lista.append(n)\n",
    "    print(lista)"
   ]
  },
  {
   "cell_type": "code",
   "execution_count": null,
   "metadata": {},
   "outputs": [],
   "source": [
    "dodaj_do_listy(1)\n",
    "dodaj_do_listy(2,[4,5])\n",
    "dodaj_do_listy(3)"
   ]
  },
  {
   "cell_type": "code",
   "execution_count": null,
   "metadata": {},
   "outputs": [],
   "source": [
    "def print_name(name = \"Bob\"):\n",
    "    print(name)\n",
    "    \n",
    "\n",
    "print_name(\"John\")\n",
    "print_name()"
   ]
  },
  {
   "cell_type": "code",
   "execution_count": null,
   "metadata": {},
   "outputs": [],
   "source": [
    "Pytanie 20.\n",
    "\n",
    "\n",
    "Co otrzymamy w wyniku wydrukowania zawartości poniższych zmiennych?"
   ]
  },
  {
   "cell_type": "code",
   "execution_count": null,
   "metadata": {},
   "outputs": [],
   "source": [
    "L = [1,2,3,4,5,6]\n",
    "\n",
    "L1 = [x for x in range(5)]        \n",
    "L2 = [x**2 for x in L]            \n",
    "L3 = [x for x in L if x % 2 == 0]\n",
    "L4 = ['Parzysta' if x%2 == 0 else 'Nieparzysta' for x in range(5)]                               \n",
    "L5 = [(x, x+10) for x in L]\n",
    "    \n",
    "D1 = {x:x % 2 == 0 for x in L} "
   ]
  },
  {
   "cell_type": "code",
   "execution_count": null,
   "metadata": {},
   "outputs": [],
   "source": []
  },
  {
   "cell_type": "code",
   "execution_count": null,
   "metadata": {},
   "outputs": [],
   "source": [
    "1**1"
   ]
  },
  {
   "cell_type": "code",
   "execution_count": null,
   "metadata": {},
   "outputs": [],
   "source": [
    "2**2"
   ]
  },
  {
   "cell_type": "code",
   "execution_count": null,
   "metadata": {},
   "outputs": [],
   "source": [
    "3**2 , 4**2, 5**2"
   ]
  },
  {
   "cell_type": "code",
   "execution_count": null,
   "metadata": {},
   "outputs": [],
   "source": [
    "print(L2)"
   ]
  },
  {
   "cell_type": "code",
   "execution_count": null,
   "metadata": {},
   "outputs": [],
   "source": []
  },
  {
   "cell_type": "markdown",
   "metadata": {},
   "source": [
    "21.'is' vs ==\n",
    "\n"
   ]
  },
  {
   "cell_type": "code",
   "execution_count": null,
   "metadata": {},
   "outputs": [],
   "source": [
    "print(1 == True) # to inaczej operator porównania wartości. Czyli czy lewo jest równe prawemu\n",
    "print(1 is True) # to inaczej operator porównania identyczności.Sprawdza czy obiekt jest IDENTYCZNY po jednej i drugiej stronie."
   ]
  },
  {
   "cell_type": "code",
   "execution_count": null,
   "metadata": {},
   "outputs": [],
   "source": []
  },
  {
   "cell_type": "markdown",
   "metadata": {},
   "source": [
    "22.\n",
    "\n",
    "Co się stanie przy wydrukowaniu poniższego kodu:\n",
    "\n"
   ]
  },
  {
   "cell_type": "code",
   "execution_count": null,
   "metadata": {},
   "outputs": [],
   "source": [
    "print(False is False) # Na logikę. 0 = 0 czyli True\n",
    "print(True is False) # Jak wyżej. Fałsz.\n",
    "print(False is False is False) # a to? I wyszło True :O"
   ]
  },
  {
   "cell_type": "code",
   "execution_count": null,
   "metadata": {},
   "outputs": [],
   "source": []
  },
  {
   "cell_type": "markdown",
   "metadata": {},
   "source": [
    "\n",
    "23. Lambda. \n",
    "\n",
    "\n",
    "\n",
    "Czym jest Lambda? Napisz kod ja wykorzystuący.\n"
   ]
  },
  {
   "cell_type": "code",
   "execution_count": null,
   "metadata": {},
   "outputs": [],
   "source": [
    "lambda argumnent : wyrażenie(które coś robi z argumentem)\n",
    "lambda x : x+2 --> Taka lambda będzie pobierała x i zwracała X+2\n",
    "\n",
    "\n",
    "def iks(x):\n",
    "    return x+2"
   ]
  },
  {
   "cell_type": "code",
   "execution_count": null,
   "metadata": {},
   "outputs": [],
   "source": [
    "L = [('Anna',82), ('Robert',33), ('Artur',40), ('Feliks',56)]\n",
    "# W poniższej linijce funkcja sorted pobiera sekwencję danych do posortowania i klucz, po którym będzie sortować.\n",
    "# Sekwencją jest lista L, a kluczem lambda, która dla kolejnego elementu listy L (czyli tupli)\n",
    "# zwraca drugi element danej tupli.\n",
    "L_posortowana = sorted(L, key = lambda x:x[1]) # ==> Jak wpiszemy tam zero, to nasza funkcja będzie porównywać od stringów\n",
    "print(L_posortowana)"
   ]
  },
  {
   "cell_type": "code",
   "execution_count": null,
   "metadata": {},
   "outputs": [],
   "source": []
  },
  {
   "cell_type": "markdown",
   "metadata": {},
   "source": [
    "# Pytanie 24 - co zostanie wypisane w wyniku wykonania poniższego kodu?\n",
    "\n"
   ]
  },
  {
   "cell_type": "code",
   "execution_count": null,
   "metadata": {},
   "outputs": [],
   "source": [
    "A = [1,2,3,4,5]\n",
    "B = A                \n",
    "C = A[:] \n",
    "B[0] = 111 \n",
    "\n",
    "print(B) # [111,2,3,4,5]\n",
    "print(A) # [111,2,3,4,5] A dlaczemu? Lista się już zdążyła zmienić\n",
    "print(C) # [1,2,3,4,5]\n",
    "\n",
    "A dlaczemu? Pod zmienną A nie ma listy, a jedynie referencje do niej. Wskaźnik, że gdzieś w pamięci jest taka lista i możemy do niej\n",
    "sięgnąć przy użyciu zmimennej A.W drugim przypadku więc przypisujemy referencję z A do B,a więc wskazują na nią \n",
    "teraz dwie zmienne, A i B. Dlatego więc wydrukowanie B i A dało identyczny rezultat.\n",
    "\n",
    "Co się więc stało z listą C? do zmiennej C nie przypisaliśmy listy. Użycie slice w środku, którego mamy dwukropek, oznacza, że do\n",
    "zmiennej C, chcemy przypisać ZAWARTOŚĆ listy A. Dlatego więc wynik jest taki, a nie inny. Podobny efekt można by uzyskać,\n",
    "wrzucając kod C = list(A)\n"
   ]
  },
  {
   "cell_type": "code",
   "execution_count": null,
   "metadata": {},
   "outputs": [],
   "source": []
  },
  {
   "cell_type": "markdown",
   "metadata": {},
   "source": [
    "24. Zmienne lokalne i globalne.\n",
    "\n",
    "\n",
    "Co zostanie wypisane w wyniku wykonania poniższego kodu?\n"
   ]
  },
  {
   "cell_type": "code",
   "execution_count": null,
   "metadata": {},
   "outputs": [],
   "source": [
    "x = 10\n",
    "\n",
    "def f():\n",
    "    x = 11\n",
    "    print(x)\n",
    "    \n",
    "    \n",
    "f()\n",
    "print(x)"
   ]
  },
  {
   "cell_type": "code",
   "execution_count": null,
   "metadata": {},
   "outputs": [],
   "source": []
  },
  {
   "cell_type": "markdown",
   "metadata": {},
   "source": [
    "26. Operacje na plikach\n",
    "\n",
    "Stwórz plik o nazwie „moj_plik.txt”, a następnie wpisz do niego liczby od 1 do 100, każdą w nowej linijce. A następnie otwórz ten plik i zapisz jego zawartość do listy z_pliku.\n"
   ]
  },
  {
   "cell_type": "code",
   "execution_count": null,
   "metadata": {},
   "outputs": [],
   "source": [
    "with open ('moj_lik.txt', 'w') as f:\n",
    "    for n in range(1,101):\n",
    "        f.write(str(n)) # jeżeli tego nie zrobimy i zostawimy zwykłe write(n) to wyleci nam błądv \n",
    "\n",
    "# jeżeli zostawimy to tak, to dostaniemy ciągły string od 1 do 100 (12345...)\n",
    "    # więc?"
   ]
  },
  {
   "cell_type": "code",
   "execution_count": null,
   "metadata": {},
   "outputs": [],
   "source": [
    "with open ('moj_lik.txt', 'w') as f:\n",
    "    for n in range(1,101):\n",
    "        f.write(str(n) + '\\n')\n",
    "# i tera będzie dobrze"
   ]
  },
  {
   "cell_type": "code",
   "execution_count": null,
   "metadata": {},
   "outputs": [],
   "source": [
    "with open('moj_lik,txt', 'r') as f: # zamiast W mamy R, czyli że będziemy czytać\n",
    "    z_pliku = f.readlines() # metoda readlines służy do odczytania tego co mamy w pliku, linijka po linijce i wrzuca je do listy"
   ]
  },
  {
   "cell_type": "code",
   "execution_count": null,
   "metadata": {},
   "outputs": [],
   "source": [
    "print(z_pliku) # mamy owszem, ale string"
   ]
  },
  {
   "cell_type": "code",
   "execution_count": null,
   "metadata": {},
   "outputs": [],
   "source": []
  },
  {
   "cell_type": "markdown",
   "metadata": {},
   "source": [
    "27. Zagnieżdżone pętle.\n",
    "\n",
    "\n",
    "\tObjętość graniastosłupa oblicza się na podstawie wzoru: V = a * b * h. \n",
    "\t a i b to długości boków jego podstawy, a h to wysokość.\n",
    "\tPoniższy kod znajduje największy graniastosłup jaki możemy utworzyć\n",
    "\tz elementów list A, B i H.\n",
    "\n",
    "\tIle operacji zostane wykonane w wyniku uruchomienia tego kodu?\n",
    "\tW jaki sposób można by to zadanie rozwiązać bardziej efektywnie?\n",
    "\n",
    "\n"
   ]
  },
  {
   "cell_type": "code",
   "execution_count": null,
   "metadata": {},
   "outputs": [],
   "source": [
    "import random                                     # biblioteka random służy do generowania liczb losowych\n",
    "\n",
    "A = [random.randint(0,100) for i in range(5)]     # tworzenie pięcioelementowej listy losowych integerów z zakresu od 0 do 100\n",
    "B = [random.randint(0,100) for i in range(5)]\n",
    "H = [random.randint(0,100) for i in range(5)]\n",
    "\n",
    "# każdy element z listy A testujemy wraz z każdym elementem z B i H. Taki zapis powoduje, że dla kolejnych liczb z listy A \n",
    "# będziemy brali kolejne liczby z B i H. Dzięki temu policzymy każdą możliwą objętość jaką da się stworzyć i porównamy\n",
    "# ją z maksymalną. Jeżeli będzie większa to przypiszemy ją do tego co tam jest poniżej. W ten sposób wyszukamy największą\n",
    "\n",
    "max_v = 0\n",
    "licznik = 0\n",
    "for a in A:\n",
    "    for b in B:\n",
    "        for h in H:\n",
    "            licznik += 1\n",
    "            if a * b * h > max_v: # jeżeli to jest prawda, to przypiszemy ten wynik\n",
    "                max_v = a * b * h # a potem go wydrkujemy\n",
    "print(max_v)\n",
    "print(licznik)"
   ]
  },
  {
   "cell_type": "markdown",
   "metadata": {},
   "source": [
    "\n",
    "28. Moduły.\n",
    "\n",
    "\n",
    "Jaki błąd popełniono w poniższym kodzie? Co zrobić, aby go uniknąć? Stwórz moduł xero zawierający funkcję, która podany string wydrukuje dwa razy, użyj ten funkcji w kodzie poniżej\n"
   ]
  },
  {
   "cell_type": "code",
   "execution_count": null,
   "metadata": {},
   "outputs": [],
   "source": [
    "from drukarka import wydrukuj\n",
    "\n",
    "def wydrukuj(imie):\n",
    "    print(imie)\n",
    "    \n",
    "wydrukuj(\"Zbynio\")"
   ]
  },
  {
   "cell_type": "code",
   "execution_count": null,
   "metadata": {},
   "outputs": [],
   "source": [
    "# tworzymy plik xsero.py, a w nim funkcję.\n",
    "\n",
    "def xero(napis):\n",
    "    print(napis * 2)\n"
   ]
  },
  {
   "cell_type": "code",
   "execution_count": null,
   "metadata": {},
   "outputs": [],
   "source": [
    "# tera import do naszego plyku.\n",
    "\n",
    "from drukarka import wydrukuj as wydrukuj_mnie_z_drukarki\n",
    "from xero import zrob_ksero\n",
    "\n",
    "def wydrukuj(imie):\n",
    "    print(imie)\n",
    "    \n",
    "wydrukuj(\"Zbynio\")\n",
    "xero(\"No elo bejbson\")"
   ]
  },
  {
   "cell_type": "code",
   "execution_count": null,
   "metadata": {},
   "outputs": [],
   "source": []
  },
  {
   "cell_type": "markdown",
   "metadata": {},
   "source": [
    "29. Pakiety.\n",
    "\n",
    "\n",
    "Do czego w Pythonie służy plik __init__.py?\n",
    "Stwórz kod w krótki sposób pokazujący jego zastosowanie.\n"
   ]
  },
  {
   "cell_type": "code",
   "execution_count": null,
   "metadata": {},
   "outputs": [],
   "source": [
    "import muzyka.trabka\n",
    "import muzyka.bebny\n",
    "\n",
    "\n",
    "# uruchamiamy\n",
    "muzyka.trabka.graj()\n",
    "muzyka.bebny.graj()"
   ]
  },
  {
   "cell_type": "code",
   "execution_count": null,
   "metadata": {},
   "outputs": [],
   "source": [
    "from muzyka import trabka\n",
    "from muzyka import bebny\n",
    "\n",
    "trabka.graj()\n",
    "bebny.graj()"
   ]
  },
  {
   "cell_type": "code",
   "execution_count": null,
   "metadata": {},
   "outputs": [],
   "source": [
    "from muzyka.trabka import graj # te działają bezpośrednio bez uruchamiana\n",
    "from muzyka.bebny import graj # ale jest problem, bo jeżeli uruchomimy tą, to nadpisze ona tą powyżej\n",
    "\n",
    "# jest to do rozwiązania za pomocą aliasów as graj_trabka. Ale nie jest to najlepsze rozwiązanie"
   ]
  },
  {
   "cell_type": "code",
   "execution_count": null,
   "metadata": {},
   "outputs": [],
   "source": [
    "\n"
   ]
  },
  {
   "cell_type": "markdown",
   "metadata": {},
   "source": [
    "\n",
    "29. IS, Not, In.\n",
    "\n",
    "\n",
    "Jaką wartość przyjmie poniższe zdanie logiczne?\n",
    "Wyjaśnij proces jego ewaluacji i znaczenie poszczególnych słów: Is, not, in.\n"
   ]
  },
  {
   "cell_type": "code",
   "execution_count": null,
   "metadata": {},
   "outputs": [],
   "source": [
    "print(1 is not True in [1,2,3]) # (1 is not True) and (True in [1,2,3])"
   ]
  },
  {
   "cell_type": "code",
   "execution_count": null,
   "metadata": {},
   "outputs": [],
   "source": [
    "print(1 is not True)\n",
    "print( 1 != True)"
   ]
  },
  {
   "cell_type": "code",
   "execution_count": null,
   "metadata": {},
   "outputs": [],
   "source": []
  },
  {
   "cell_type": "markdown",
   "metadata": {},
   "source": [
    "31. MAP I FILTER.\n",
    "\n",
    "\n",
    "Otrzymujesz listę nazwisk jakie klienci wprowadzili w formularz na stronie internetowej. Użyj funkcji filter(),  aby usunąć z niego wszystkie wpisy, które nie są stringami. Użyj funkcji map() aby przerobić nazwiska tak, aby wszystkie zostały zapisane poprawnie, z wielkimi literami tylko na początku imienia i nazwiska.\n"
   ]
  },
  {
   "cell_type": "code",
   "execution_count": null,
   "metadata": {},
   "outputs": [],
   "source": [
    "nazwiska = ['jan kot', 18, 'ANNA KRÓL', 'jÓzef BYK', ['nie', 'wasza','sprawa'], 'ROBERT wąŻ']\n",
    "nazwiska_1 = list(filter(lambda x:type(x) is str, nazwiska))"
   ]
  },
  {
   "cell_type": "code",
   "execution_count": null,
   "metadata": {},
   "outputs": [],
   "source": [
    "print(nazwiska_1)"
   ]
  },
  {
   "cell_type": "code",
   "execution_count": null,
   "metadata": {},
   "outputs": [],
   "source": [
    "nazwiska_2 = list(map(lambda x: x.lower().title(), nazwiska_1))"
   ]
  },
  {
   "cell_type": "code",
   "execution_count": null,
   "metadata": {},
   "outputs": [],
   "source": [
    "print(nazwiska_2)"
   ]
  },
  {
   "cell_type": "code",
   "execution_count": null,
   "metadata": {},
   "outputs": [],
   "source": []
  },
  {
   "cell_type": "markdown",
   "metadata": {},
   "source": [
    "32. DEKORATORY\n",
    "\n",
    "\n",
    "Do czego w Pythonie służą dekoratory. Napisz takowy, który będzie dodawał 3 gwiazdki przed i po efekcie działania udekorowanej funkcyji. \n"
   ]
  },
  {
   "cell_type": "code",
   "execution_count": null,
   "metadata": {},
   "outputs": [],
   "source": [
    "def dekorator(funkcja):\n",
    "    def funk_udekorowana():\n",
    "        print(\"***\")\n",
    "        funkcja()\n",
    "        print(\"***\")\n",
    "    return funk_udekorowana"
   ]
  },
  {
   "cell_type": "code",
   "execution_count": null,
   "metadata": {},
   "outputs": [],
   "source": [
    "@dekorator # nie może tu być żadnego odstępu!\n",
    "def f():\n",
    "    print(\"Czołem\")"
   ]
  },
  {
   "cell_type": "code",
   "execution_count": null,
   "metadata": {},
   "outputs": [],
   "source": [
    "f()"
   ]
  },
  {
   "cell_type": "code",
   "execution_count": null,
   "metadata": {},
   "outputs": [],
   "source": [
    "f = dekorator(f)"
   ]
  },
  {
   "cell_type": "code",
   "execution_count": null,
   "metadata": {},
   "outputs": [],
   "source": []
  },
  {
   "cell_type": "markdown",
   "metadata": {},
   "source": [
    "33. GENERATORY\n",
    "\n",
    "\n",
    "Do czego w Pythonie służy słowo kluczowe yield? Napisz przykładowy kod je wykorzystujący.\n",
    "Yield w Pythonie stosowane jest razem z generatorami i służy do zwracania ich wartości\n"
   ]
  },
  {
   "cell_type": "code",
   "execution_count": null,
   "metadata": {},
   "outputs": [],
   "source": [
    "def kolejne_parzyste():\n",
    "    for n in range (2,21,2):\n",
    "        yield n"
   ]
  },
  {
   "cell_type": "code",
   "execution_count": null,
   "metadata": {},
   "outputs": [],
   "source": [
    "z = kolejne_parzyste()"
   ]
  },
  {
   "cell_type": "code",
   "execution_count": null,
   "metadata": {},
   "outputs": [],
   "source": [
    "print(z) # w ten sposób tego nigdy nie dostaniemy należy zmodyfikować nasz kod."
   ]
  },
  {
   "cell_type": "code",
   "execution_count": null,
   "metadata": {},
   "outputs": [],
   "source": [
    "print(next(z))"
   ]
  },
  {
   "cell_type": "code",
   "execution_count": null,
   "metadata": {},
   "outputs": [],
   "source": [
    "print(next(z))"
   ]
  },
  {
   "cell_type": "code",
   "execution_count": null,
   "metadata": {},
   "outputs": [],
   "source": [
    "for i in range(11):\n",
    "    print(next(z))"
   ]
  },
  {
   "cell_type": "code",
   "execution_count": null,
   "metadata": {},
   "outputs": [],
   "source": [
    "# generator expressions podobny do LIST COMPRAHENSIONS\n",
    "\n",
    "y = ('a' * n for n in range(5))"
   ]
  },
  {
   "cell_type": "code",
   "execution_count": null,
   "metadata": {},
   "outputs": [],
   "source": [
    "for i in range(5):\n",
    "    print(next(y))"
   ]
  },
  {
   "cell_type": "code",
   "execution_count": null,
   "metadata": {},
   "outputs": [],
   "source": [
    "def new ():\n",
    "    for x in range(5,50,5):\n",
    "        yield x\n",
    "\n",
    "x = new\n",
    "        \n",
    "for i in range(50):\n",
    "    return(next(x))"
   ]
  },
  {
   "cell_type": "markdown",
   "metadata": {},
   "source": [
    "34. ASSERT.\n",
    "\n",
    "\n",
    "Napisz fragment kodu, w którym zobrazujesz użycie słowa kluczowego ASSERT.  Wyjaśnij jaka jest rola testów jednostkowych i czym charakteryzuje się dobry test jednostkowy.\n"
   ]
  },
  {
   "cell_type": "code",
   "execution_count": null,
   "metadata": {},
   "outputs": [],
   "source": [
    "def dodawanie(a,b):\n",
    "    return a + b + 1 "
   ]
  },
  {
   "cell_type": "code",
   "execution_count": null,
   "metadata": {},
   "outputs": [],
   "source": [
    "def test_dodawanie_int():\n",
    "    assert dodawanie(2,3) == 5 "
   ]
  },
  {
   "cell_type": "code",
   "execution_count": null,
   "metadata": {},
   "outputs": [],
   "source": [
    "def test_dodawanie_str():\n",
    "    assert dodawanie ('a', 'b') == 'ab'"
   ]
  },
  {
   "cell_type": "code",
   "execution_count": null,
   "metadata": {},
   "outputs": [],
   "source": [
    "# mamy funkcje, więc wywołajmy, przetestujmy.\n",
    "test_dodawanie_int()\n",
    "test_dodawanie_str()"
   ]
  },
  {
   "cell_type": "code",
   "execution_count": null,
   "metadata": {},
   "outputs": [],
   "source": [
    "pip install pytest"
   ]
  },
  {
   "cell_type": "code",
   "execution_count": null,
   "metadata": {},
   "outputs": [],
   "source": [
    "pytest Untitled.ipynb"
   ]
  },
  {
   "cell_type": "code",
   "execution_count": null,
   "metadata": {},
   "outputs": [],
   "source": []
  },
  {
   "cell_type": "markdown",
   "metadata": {},
   "source": [
    "35. __INIT__ \n",
    "\n",
    "\n",
    "Do czego służy w pythonie __init__ ? Czym różni się od __init__.py .\n",
    "Napisz fragment kodu wykorzystujący __init__.\n"
   ]
  },
  {
   "cell_type": "code",
   "execution_count": null,
   "metadata": {},
   "outputs": [],
   "source": [
    "class Pies:\n",
    "    def __init__(self, imie, rasa):\n",
    "        self.imie = imie\n",
    "        self.rasa = rasa\n",
    "        \n",
    "    def __str__(self):\n",
    "        return f\"Pies rasy {self.rasa} wabi się {self.imie}.\""
   ]
  },
  {
   "cell_type": "code",
   "execution_count": null,
   "metadata": {},
   "outputs": [],
   "source": [
    "maly_pies = Pies(\"Pikuś\", \"Bobi\")\n",
    "duzy_pies = Pies(\"Zbynio\", \"Edward\")"
   ]
  },
  {
   "cell_type": "code",
   "execution_count": null,
   "metadata": {},
   "outputs": [],
   "source": [
    "print(maly_pies.imie, maly_pies.rasa)\n",
    "print(duzy_pies.imie, duzy_pies.rasa)"
   ]
  },
  {
   "cell_type": "code",
   "execution_count": null,
   "metadata": {},
   "outputs": [],
   "source": [
    "print(maly_pies)"
   ]
  },
  {
   "cell_type": "markdown",
   "metadata": {},
   "source": [
    "# Pytanie 37 - co zostanie wypisane w wyniku uruchomienia poniższego kodu?"
   ]
  },
  {
   "cell_type": "code",
   "execution_count": null,
   "metadata": {},
   "outputs": [],
   "source": [
    "\n",
    "\n",
    "class ZwierzeLadowe:                      # klasa ZwierzeLadowe ma dwie metody: przedstaw_sie i biegaj\n",
    "    def przedstaw_sie(self):\n",
    "        print(\"Jestem zwierzęciem lądowym.\")\n",
    "    def biegaj(self):\n",
    "        print(\"Biegam tu i tam.\")\n",
    "\n",
    "class ZwierzeMorskie:                     # klasa ZwierzeMorskie ma dwie metody: przedstaw_sie i plywaj\n",
    "    def przedstaw_sie(self):\n",
    "        print(\"Jestem zwierzęciem morskim.\")\n",
    "    def plywaj(self):\n",
    "        print(\"Pływam tu i tam.\")\n",
    "\n",
    "class SwinkaMorska(ZwierzeLadowe, ZwierzeMorskie): # klasa SwinkaMorska dziecziczy z klas: ZwierzeLadowe i ZwierzeMorskie\n",
    "    pass                                           # klasa ZwierzeLadowe lądowe ma priorytet nad klasą ZwierzeMorskie,  \n",
    "# bo jest podana jako pierwszas\n",
    "\n",
    "swinka = SwinkaMorska()      # tworzenie obiektu klasy SwinkaMorska\n",
    "swinka.przedstaw_sie()       # wywołanie metody przedstaw_sie odziedziczonej z klasy ZwierzeLadowe\n",
    "swinka.biegaj()              # wywołanie metody biegaj odziedziczonej z klasy ZwierzeLadowe\n",
    "swinka.plywaj()              # wywołanie metody pływaj odziedziczonej z klasy ZwierzeMorskie"
   ]
  },
  {
   "cell_type": "code",
   "execution_count": null,
   "metadata": {},
   "outputs": [],
   "source": []
  },
  {
   "cell_type": "markdown",
   "metadata": {},
   "source": [
    "Pytanie 38.\n",
    "\n",
    "Do czego służą staticmethod i classmethod ?"
   ]
  },
  {
   "cell_type": "code",
   "execution_count": null,
   "metadata": {},
   "outputs": [],
   "source": [
    "class Matematyka:\n",
    "    def __init__(self):\n",
    "        self.pi = 3.14\n",
    "    \n",
    "    def policz_obwod(self,r):\n",
    "        return 2 * self.pi * r\n",
    "    \n",
    "    \n",
    "  \n",
    "    def dodaj (a,b): \n",
    "        return a + b\n",
    "    \n",
    "    @classmethod\n",
    "    def dodaj_i_pomnoz(cls, a, b): # CLS jest konieczne, aby informować, że jest to metoda classowa. Zapis ten też oznacza, że\n",
    "# chcemy sięgnąć do metody DODAJ, która znajduje się w tej samej klasie, na której będzie nasza metoda klasowa.\n",
    "# W skrócie: Ten zapis informuje Pythona, że ta metoda może być wywołana bezpośrendio na klasie, nie potrzebuje obiektu, \n",
    "#czyli instancji klasy do działania, ale jest świadoma bycia w klasie i potrafi sięgnąć do innych metod w niej się znajdujących\n",
    "\n",
    "        return cls.dodaj(a,b) * 2"
   ]
  },
  {
   "cell_type": "code",
   "execution_count": null,
   "metadata": {},
   "outputs": [],
   "source": [
    "m = Matematyka()\n",
    "print(m.policz_obwod(5))\n",
    "print(Matematyka.dodaj(2,3))\n",
    "print(Matematyka.dodaj_i_pomnoz(2,3))"
   ]
  },
  {
   "cell_type": "code",
   "execution_count": null,
   "metadata": {},
   "outputs": [],
   "source": []
  },
  {
   "cell_type": "markdown",
   "metadata": {},
   "source": [
    "#UWAGA. A TERAZ W ROZDZIAŁACH 39-42 wykonamy 4 najpopularniejsze zadania na rozmowach. Fizz Buzza, ciąg Fibonacciego, Rekurencyjne wypisywanie zawartości katalogu oraz wyszukiwanie binarne"
   ]
  },
  {
   "cell_type": "markdown",
   "metadata": {},
   "source": [
    "Pytanie 39 - napisz program, który dla kolejnych liczb z zakresu od 1 do n:\n",
    "wypisze: \"Fizz\" - jeśli liczba będzie podzielna przez 3\n",
    "wypisze: \"Buzz\" - jeśli liczba będzie podzielna przez 5\n",
    "wypisze: \"FizzBuzz\" - jeśli liczba będzie podzielna przez 3 i 5\n",
    "jeśli nie zajdzie żaden z tych przypadków, to wypisz po prostu liczbę.\n",
    "                    Zadanie to znane jest pod nazwą: FizzBuzz."
   ]
  },
  {
   "cell_type": "code",
   "execution_count": null,
   "metadata": {},
   "outputs": [],
   "source": [
    "def fizzbuzz(n):\n",
    "    \n",
    "    for num in range (1, n+1):\n",
    "        if num % 3 == 0:\n",
    "            print('Fizz')\n",
    "        if num % 5 == 0:\n",
    "            print('Buzz')\n",
    "        elif num % 3 == 0 and num % 5 == 0:\n",
    "            print('FizzBuzz')\n",
    "        else:\n",
    "            print (num)\n",
    "    "
   ]
  },
  {
   "cell_type": "code",
   "execution_count": null,
   "metadata": {},
   "outputs": [],
   "source": [
    "fizzbuzz(30)"
   ]
  },
  {
   "cell_type": "code",
   "execution_count": null,
   "metadata": {},
   "outputs": [],
   "source": []
  },
  {
   "cell_type": "markdown",
   "metadata": {},
   "source": [
    "# Pytanie 40 - ciąg Fibonacciego to ciąg liczb, którego:\n",
    "- zerowy element wynosi 0\n",
    " - pierwszy element wynosi 1\n",
    " - każdy kolejny element jest sumą dwóch poprzedzających go elementów. Napisz funkcję, która zwróci n-ty element ciągu Fibonacciego.\n",
    "\n",
    " kolejny element ciągu: 0   1   2   3   4   5   6    7   8   9  10\n",
    " wartość dla elementu:  0   1   1   2   3   5   8   13  21  34  55"
   ]
  },
  {
   "cell_type": "code",
   "execution_count": null,
   "metadata": {},
   "outputs": [],
   "source": [
    "#rozwiązanie rekurencyjne --> Dla określonych warunków wywołuje samą siebie.\n",
    "\n",
    "def fibo_r(n):\n",
    "    if n <= 1:\n",
    "        return n\n",
    "    return fibo_r(n - 1) + fibo_r(n - 2)"
   ]
  },
  {
   "cell_type": "code",
   "execution_count": null,
   "metadata": {},
   "outputs": [],
   "source": [
    "print(fibo_r(100))"
   ]
  },
  {
   "cell_type": "code",
   "execution_count": null,
   "metadata": {},
   "outputs": [],
   "source": [
    "# rozwiązanie liniowe --> Będzie wymagało tyle operacji ile elementów ciągu będziemy chcieli obliczyć. Wadą jest to, że jest\n",
    "# trudniejsze do zrozumienia\n",
    "\n",
    "def fibo_l(n):\n",
    "    p,d = 0,1 # P to skród od pierwsza, D od druga\n",
    "    for _ in range(n): # podkreślenie oznacza, że nie będziemy używać zmiennej\n",
    "        p,d = d, p +d # tutaj do pierwszej P przypisujemy D, a do drugiej sumę, ze wcześniejszego obiegu pętli\n",
    "    return p"
   ]
  },
  {
   "cell_type": "code",
   "execution_count": null,
   "metadata": {},
   "outputs": [],
   "source": [
    "print(fibo_l(101))"
   ]
  },
  {
   "cell_type": "code",
   "execution_count": null,
   "metadata": {},
   "outputs": [],
   "source": []
  },
  {
   "cell_type": "markdown",
   "metadata": {},
   "source": [
    "Pytanie 41 - napisz funkcję, która dla podanego katalgu wypisze znajdujące się w nim pliki.\n",
    " Pamiętaj, że katalog może zawierać podkatalogi, do których funkcja również musi zajrzeć.\n",
    "\n"
   ]
  },
  {
   "cell_type": "code",
   "execution_count": null,
   "metadata": {},
   "outputs": [],
   "source": [
    "#os.listdir - zwraca zawartość danego katalogu\n",
    "#os.path.join - łączy dwa stringi w ścieżkę czytelną dla danego systemu operacyjnego\n",
    "#os.path.isdir - sprawdza czy pod nadą ściezką znajduje się katalog\n",
    "\n",
    "import os\n",
    "\n",
    "def wypisz(sciezka):\n",
    "    for element in os.listdir(sciezka): # pętla for dla każdego elementu w katalogu\n",
    "        sciezka_ele = os.path.join(sciezka, element)\n",
    "        if os.path.isdir(sciezka_ele):\n",
    "            wypisz(sciezka_ele)\n",
    "        else:\n",
    "            print(sciezka_ele)\n",
    "        "
   ]
  },
  {
   "cell_type": "code",
   "execution_count": null,
   "metadata": {},
   "outputs": [],
   "source": [
    "wypisz(r\"C:\\Users\\karol\\Desktop\\WebDevCourse\\Kursy z UDEMY\")"
   ]
  },
  {
   "cell_type": "code",
   "execution_count": null,
   "metadata": {},
   "outputs": [],
   "source": []
  },
  {
   "cell_type": "code",
   "execution_count": null,
   "metadata": {},
   "outputs": [],
   "source": []
  },
  {
   "cell_type": "code",
   "execution_count": null,
   "metadata": {},
   "outputs": [],
   "source": []
  },
  {
   "cell_type": "code",
   "execution_count": null,
   "metadata": {},
   "outputs": [],
   "source": []
  },
  {
   "cell_type": "code",
   "execution_count": null,
   "metadata": {},
   "outputs": [],
   "source": []
  },
  {
   "cell_type": "markdown",
   "metadata": {},
   "source": [
    "42. Wyszukiwanie binarne"
   ]
  },
  {
   "cell_type": "code",
   "execution_count": null,
   "metadata": {},
   "outputs": [],
   "source": [
    "# Pytanie 42 - przy użyciu wyszukiwania binarnego sprawdź\n",
    "# czy liczba 341 znajduje się w posortowanej liście P\n",
    "\n",
    "P = [-10, -7, -5, -3, 0, 3, 5, 21, 68, 341, 500]\n",
    "\n",
    "szukana = 341\n",
    "lewy = 0\n",
    "prawy = len(P) -1\n",
    "\n",
    "# teraz czas na pętlę\n",
    "\n",
    "while lewy <= prawy:\n",
    "    srodkowy = (lewy + prawy) // 2 # dzielenie bez reszty\n",
    "    \n",
    "    if P[srodkowy] == szukana:\n",
    "        print(f\"Liczba {szukana} znajduje się na tej liście.\")\n",
    "        break\n",
    "    elif P[srodkowy] < szukana:\n",
    "        lewy = srodkowy + 1\n",
    "    else:\n",
    "        prawy = srodkowy - 1\n",
    "else:\n",
    "    print(f\"Liczba {szukana} nie znajduje się na tej liście.\")\n",
    "        "
   ]
  },
  {
   "cell_type": "code",
   "execution_count": null,
   "metadata": {},
   "outputs": [],
   "source": []
  },
  {
   "cell_type": "code",
   "execution_count": null,
   "metadata": {},
   "outputs": [],
   "source": []
  },
  {
   "cell_type": "code",
   "execution_count": null,
   "metadata": {},
   "outputs": [],
   "source": []
  },
  {
   "cell_type": "code",
   "execution_count": 2,
   "metadata": {},
   "outputs": [
    {
     "data": {
      "image/png": "[encoded data removed]",
      "text/plain": [
       "<Figure size 432x288 with 1 Axes>"
      ]
     },
     "metadata": {
      "needs_background": "light"
     },
     "output_type": "display_data"
    }
   ],
   "source": [
    "import math       # poniższy kod wyświetla wykres przedstawiający porównanie różnych złożoności obliczeniowych\n",
    "                  # przy użyciu popularnej bibliteki matplotlib\n",
    "import matplotlib.pyplot as plt\n",
    "\n",
    "seria0 = [1] * 10\n",
    "seria1 = list(range(1,11))\n",
    "seria2 = [math.log(x) for x in seria1]\n",
    "seria3 = [math.log(x) * x for x in seria1]\n",
    "seria4 = [x**2 for x in seria1]\n",
    "seria5 = [2**x for x in seria1]\n",
    "\n",
    "plt.plot(seria0, label=\"O(1)\")\n",
    "plt.plot(seria2, label=\"O(log(n))\")\n",
    "plt.plot(seria1, label=\"O(n)\")\n",
    "plt.plot(seria3, label=\"O(n * log(n))\")\n",
    "plt.plot(seria4, label=\"O(n**2)\")\n",
    "plt.plot(seria5, label=\"O(2**n)\")\n",
    "\n",
    "plt.legend()\n",
    "plt.show()"
   ]
  },
  {
   "cell_type": "code",
   "execution_count": null,
   "metadata": {},
   "outputs": [],
   "source": []
  },
  {
   "cell_type": "markdown",
   "metadata": {},
   "source": [
    "Pytanie 44. Dynamiczne typowanie.\n",
    "\n",
    "\n",
    "Co to znaczy, że Python jest językiem dynamicznie typowanym?\n"
   ]
  },
  {
   "cell_type": "code",
   "execution_count": 6,
   "metadata": {},
   "outputs": [
    {
     "name": "stdout",
     "output_type": "stream",
     "text": [
      "Collecting mypy\n",
      "  Downloading mypy-0.790-cp38-cp38-win_amd64.whl (8.5 MB)\n",
      "Requirement already satisfied: typing-extensions>=3.7.4 in c:\\users\\karol\\anaconda3\\lib\\site-packages (from mypy) (3.7.4.3)\n",
      "Collecting mypy-extensions<0.5.0,>=0.4.3\n",
      "  Downloading mypy_extensions-0.4.3-py2.py3-none-any.whl (4.5 kB)\n",
      "Collecting typed-ast<1.5.0,>=1.4.0\n",
      "  Downloading typed_ast-1.4.1-cp38-cp38-win_amd64.whl (158 kB)\n",
      "Installing collected packages: mypy-extensions, typed-ast, mypy\n",
      "Successfully installed mypy-0.790 mypy-extensions-0.4.3 typed-ast-1.4.1\n",
      "Note: you may need to restart the kernel to use updated packages.\n"
     ]
    }
   ],
   "source": [
    "pip install mypy"
   ]
  },
  {
   "cell_type": "code",
   "execution_count": 3,
   "metadata": {},
   "outputs": [],
   "source": [
    "from typing import List\n",
    "\n",
    "def a(word: str) -> List[str]:\n",
    "    return list(word)"
   ]
  },
  {
   "cell_type": "code",
   "execution_count": 5,
   "metadata": {},
   "outputs": [
    {
     "name": "stdout",
     "output_type": "stream",
     "text": [
      "['P', 'y', 't', 'h', 'o', 'n']\n"
     ]
    }
   ],
   "source": [
    "print(a('Python'))"
   ]
  },
  {
   "cell_type": "code",
   "execution_count": null,
   "metadata": {},
   "outputs": [],
   "source": []
  },
  {
   "cell_type": "code",
   "execution_count": 7,
   "metadata": {},
   "outputs": [
    {
     "name": "stdout",
     "output_type": "stream",
     "text": [
      "Requirement already satisfied: colorama in c:\\users\\karol\\anaconda3\\lib\\site-packages (0.4.4)Note: you may need to restart the kernel to use updated packages.\n",
      "\n"
     ]
    }
   ],
   "source": [
    "pip install colorama"
   ]
  },
  {
   "cell_type": "code",
   "execution_count": 4,
   "metadata": {},
   "outputs": [
    {
     "name": "stdout",
     "output_type": "stream",
     "text": [
      "Tekst w czerwieni\n",
      "Tekst w czerwieni\n"
     ]
    }
   ],
   "source": [
    "from colorama import init, Fore, Back, Style\n",
    "init()\n",
    "print(Fore.RED + \"Tekst w czerwieni\")\n",
    "print(Back.BLUE + \"Na niebieskim tle\")\n",
    "print(Style.RESRET_ALL + \"... i znów klasycznie\")"
   ]
  },
  {
   "cell_type": "code",
   "execution_count": 5,
   "metadata": {},
   "outputs": [
    {
     "name": "stdout",
     "output_type": "stream",
     "text": [
      "The Zen of Python, by Tim Peters\n",
      "\n",
      "Beautiful is better than ugly.\n",
      "Explicit is better than implicit.\n",
      "Simple is better than complex.\n",
      "Complex is better than complicated.\n",
      "Flat is better than nested.\n",
      "Sparse is better than dense.\n",
      "Readability counts.\n",
      "Special cases aren't special enough to break the rules.\n",
      "Although practicality beats purity.\n",
      "Errors should never pass silently.\n",
      "Unless explicitly silenced.\n",
      "In the face of ambiguity, refuse the temptation to guess.\n",
      "There should be one-- and preferably only one --obvious way to do it.\n",
      "Although that way may not be obvious at first unless you're Dutch.\n",
      "Now is better than never.\n",
      "Although never is often better than *right* now.\n",
      "If the implementation is hard to explain, it's a bad idea.\n",
      "If the implementation is easy to explain, it may be a good idea.\n",
      "Namespaces are one honking great idea -- let's do more of those!\n"
     ]
    }
   ],
   "source": [
    "import this"
   ]
  },
  {
   "cell_type": "code",
   "execution_count": null,
   "metadata": {},
   "outputs": [],
   "source": []
  }
 ],
 "metadata": {
  "kernelspec": {
   "display_name": "Python 3",
   "language": "python",
   "name": "python3"
  },
  "language_info": {
   "codemirror_mode": {
    "name": "ipython",
    "version": 3
   },
   "file_extension": ".py",
   "mimetype": "text/x-python",
   "name": "python",
   "nbconvert_exporter": "python",
   "pygments_lexer": "ipython3",
   "version": "3.8.5"
  }
 },
 "nbformat": 4,
 "nbformat_minor": 4
}
